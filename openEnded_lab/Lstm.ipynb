{
 "cells": [
  {
   "cell_type": "code",
   "execution_count": 1,
   "id": "29cef70d",
   "metadata": {},
   "outputs": [],
   "source": [
    "import os\n",
    "os.chdir(r'G:\\SAAD_ML') \n",
    "from stlf_torch_kit import  DataLoadeing\n",
    "import torch\n",
    "import pandas as pd\n",
    "import numpy as np\n",
    "import pickle, time\n",
    "from stlf_torch_kit import univariate_multi_step\n",
    "from stlf_torch_kit import SaveBestModel, PlotLossCurves, LoadModel, train, TestModel, BatchGenerator, results\n",
    "import torch.nn as nn\n",
    "import torch.optim as optim\n",
    "from torchinfo import summary"
   ]
  },
  {
   "cell_type": "markdown",
   "id": "6bc31f46",
   "metadata": {},
   "source": [
    "# Data Loading"
   ]
  },
  {
   "cell_type": "code",
   "execution_count": 2,
   "id": "4b2a9dfb",
   "metadata": {},
   "outputs": [
    {
     "data": {
      "text/plain": [
       "((6132, 29), (1752, 29), (876, 29))"
      ]
     },
     "execution_count": 2,
     "metadata": {},
     "output_type": "execute_result"
    }
   ],
   "source": [
    "import os\n",
    "path_dataset =r'G:\\SAAD_ML\\Dataset'\n",
    "path_tr = os.path.join(path_dataset, 'CityLearn_train.csv')\n",
    "df_tr = pd.read_csv(path_tr)\n",
    "train_set = df_tr.iloc[:].values\n",
    "path_v = os.path.join(path_dataset, 'CityLearn_validation.csv')\n",
    "df_v = pd.read_csv(path_v)\n",
    "validation_set = df_v.iloc[:].values \n",
    "path_te = os.path.join(path_dataset, 'Citylearn_test.csv')\n",
    "df_te = pd.read_csv(path_te)\n",
    "test_set = df_te.iloc[:].values \n",
    "\n",
    "path_scaler = os.path.join(path_dataset, 'Scaler.pkl')\n",
    "scaler         = pickle.load(open(path_scaler, 'rb'))\n",
    "\n",
    "train_set.shape, validation_set.shape, test_set.shape"
   ]
  },
  {
   "cell_type": "code",
   "execution_count": 3,
   "id": "293ad9eb",
   "metadata": {},
   "outputs": [
    {
     "name": "stdout",
     "output_type": "stream",
     "text": [
      "Time Consumed 0.0538637638092041 sec\n"
     ]
    }
   ],
   "source": [
    "time_steps = 24 \n",
    "target_len = 1 #how much steps do you wana forecast #Edit\n",
    "start = time.time()\n",
    "train_X , train_y = univariate_multi_step(train_set, time_steps, target_col=0,target_len=target_len)\n",
    "validation_X, validation_y = univariate_multi_step(validation_set, time_steps, target_col=0,target_len=target_len)\n",
    "test_X, test_y = univariate_multi_step(test_set, time_steps, target_col=0,target_len=target_len)\n",
    "print('Time Consumed', time.time()-start, \"sec\")"
   ]
  },
  {
   "cell_type": "code",
   "execution_count": 4,
   "id": "dc241223",
   "metadata": {},
   "outputs": [
    {
     "data": {
      "text/plain": [
       "(851, 24, 29)"
      ]
     },
     "execution_count": 4,
     "metadata": {},
     "output_type": "execute_result"
    }
   ],
   "source": [
    "test_X.shape"
   ]
  },
  {
   "cell_type": "markdown",
   "id": "eb52558d",
   "metadata": {},
   "source": [
    "#### LSTM_MODEL"
   ]
  },
  {
   "cell_type": "code",
   "execution_count": 4,
   "id": "1912c815",
   "metadata": {},
   "outputs": [],
   "source": [
    "class LSTMModel(nn.Module):\n",
    "    def __init__(self, time_steps=24, num_features=29):\n",
    "        super(LSTMModel, self).__init__()\n",
    "        \n",
    "        self.lstm1 = nn.LSTM(input_size=num_features, hidden_size=64, batch_first=True, dropout=0, bidirectional=False)\n",
    "        self.dropout1 = nn.Dropout(0.3)\n",
    "\n",
    "        self.lstm2 = nn.LSTM(input_size=64, hidden_size=32, batch_first=True, dropout=0, bidirectional=False)\n",
    "        self.dropout2 = nn.Dropout(0.3)\n",
    "        \n",
    "        self.fc1 = nn.Linear(32, 16)\n",
    "        self.relu = nn.ReLU()\n",
    "        self.output_layer = nn.Linear(16, 1)\n",
    "\n",
    "    def forward(self, x):\n",
    "        # x shape: (batch_size, time_steps, num_features)\n",
    "        x, _ = self.lstm1(x)\n",
    "        x = self.dropout1(x)\n",
    "        \n",
    "        x, _ = self.lstm2(x)\n",
    "        x = self.dropout2(x)\n",
    "        \n",
    "        # Only take the output of the last time step\n",
    "        x = x[:, -1, :]  # shape: (batch_size, 32)\n",
    "        \n",
    "        x = self.fc1(x)\n",
    "        x = self.relu(x)\n",
    "        output = self.output_layer(x)\n",
    "        \n",
    "        return output"
   ]
  },
  {
   "cell_type": "markdown",
   "id": "4659def4",
   "metadata": {},
   "source": [
    "# instances"
   ]
  },
  {
   "cell_type": "code",
   "execution_count": 5,
   "id": "cf1f740d",
   "metadata": {},
   "outputs": [],
   "source": [
    "model = LSTMModel()#Edit\n",
    "criterion = nn.MSELoss() #Edit, don't change\n",
    "\n",
    "save_best_model = SaveBestModel()\n",
    "Plot_Loss=PlotLossCurves()\n",
    "load_model=LoadModel()"
   ]
  },
  {
   "cell_type": "markdown",
   "id": "096a217f",
   "metadata": {},
   "source": [
    "# Learning Rate & Optimizer"
   ]
  },
  {
   "cell_type": "code",
   "execution_count": 6,
   "id": "f9867523",
   "metadata": {},
   "outputs": [],
   "source": [
    "#lr=0.001 # Edit\n",
    "#optimizer = torch.optim.Adam(model.parameters(), lr=lr) #Edit\n",
    "lr = 0.001  # Initial learning rate\n",
    "optimizer = torch.optim.Adam(model.parameters(), lr=lr)\n",
    "scheduler = torch.optim.lr_scheduler.ReduceLROnPlateau(optimizer, mode='min', factor=0.5, patience=10, verbose=True)  # Added\n"
   ]
  },
  {
   "cell_type": "markdown",
   "id": "c0b55ecf",
   "metadata": {},
   "source": [
    "# Check Device"
   ]
  },
  {
   "cell_type": "code",
   "execution_count": 7,
   "id": "53206b91",
   "metadata": {},
   "outputs": [
    {
     "name": "stdout",
     "output_type": "stream",
     "text": [
      "Model is on device: cpu\n"
     ]
    }
   ],
   "source": [
    "def get_model_device(model):\n",
    "    return next(model.parameters()).device\n",
    "device = get_model_device(model)\n",
    "print(\"Model is on device:\", device)"
   ]
  },
  {
   "cell_type": "markdown",
   "id": "f8fafebb",
   "metadata": {},
   "source": [
    "# Training"
   ]
  },
  {
   "cell_type": "markdown",
   "id": "d0aa963e",
   "metadata": {},
   "source": [
    "#### Path & other Stuffs"
   ]
  },
  {
   "cell_type": "code",
   "execution_count": 8,
   "id": "3924df93",
   "metadata": {},
   "outputs": [],
   "source": [
    "start_epoch = 1\n",
    "num_epochs = 20 #Edit\n",
    "best_model_path=r'G:\\SAAD_ML\\chk'+str('\\\\') #Edit\n",
    "fig_path=r'G:\\SAAD_ML\\chk' #Edit\n",
    "train_data_loader, validation_data_loader, test_data_loader = DataLoadeing(train_X ,\n",
    "                                                                           train_y, \n",
    "                                                                           validation_X, \n",
    "                                                                           validation_y, \n",
    "                                                                           test_X, \n",
    "                                                                           test_y, \n",
    "                                                                           batch_size=32) #Batch_Size Edit"
   ]
  },
  {
   "cell_type": "markdown",
   "id": "f460874b",
   "metadata": {},
   "source": [
    "#### Instances"
   ]
  },
  {
   "cell_type": "code",
   "execution_count": 9,
   "id": "2b17e610",
   "metadata": {},
   "outputs": [],
   "source": [
    "criterion = nn.MSELoss() # Edit, for Now Don't  Change\n",
    "\n",
    "criterion_mae = nn.L1Loss()\n",
    "\n",
    "save_best_model = SaveBestModel()\n",
    "Plot_Loss=PlotLossCurves()\n",
    "load_model=LoadModel()"
   ]
  },
  {
   "cell_type": "markdown",
   "id": "566bee91",
   "metadata": {},
   "source": [
    "#### Training Loop"
   ]
  },
  {
   "cell_type": "code",
   "execution_count": 10,
   "id": "b37aa742",
   "metadata": {
    "scrolled": true
   },
   "outputs": [
    {
     "name": "stdout",
     "output_type": "stream",
     "text": [
      "Epoch [1/20], Step [191/191], Training Loss: 0.0431\n",
      "Epoch [1/20], Step [54/54], Val Loss: 0.0413\n",
      "\n",
      "Saving best model for epoch: 1\n",
      " at G:\\SAAD_ML\\chk\\1best_model.pth\n",
      "Epoch [2/20], Step [191/191], Training Loss: 0.0404\n",
      "Epoch [2/20], Step [54/54], Val Loss: 0.0415\n",
      "Epoch [3/20], Step [191/191], Training Loss: 0.0391\n",
      "Epoch [3/20], Step [54/54], Val Loss: 0.0408\n",
      "\n",
      "Saving best model for epoch: 3\n",
      " at G:\\SAAD_ML\\chk\\3best_model.pth\n",
      "Epoch [4/20], Step [191/191], Training Loss: 0.0371\n",
      "Epoch [4/20], Step [54/54], Val Loss: 0.0412\n",
      "Epoch [5/20], Step [191/191], Training Loss: 0.0358\n",
      "Epoch [5/20], Step [54/54], Val Loss: 0.0420\n",
      "Epoch [6/20], Step [191/191], Training Loss: 0.0347\n",
      "Epoch [6/20], Step [54/54], Val Loss: 0.0423\n",
      "Epoch [7/20], Step [191/191], Training Loss: 0.0331\n",
      "Epoch [7/20], Step [54/54], Val Loss: 0.0411\n",
      "Epoch [8/20], Step [191/191], Training Loss: 0.0314\n",
      "Epoch [8/20], Step [54/54], Val Loss: 0.0393\n",
      "\n",
      "Saving best model for epoch: 8\n",
      " at G:\\SAAD_ML\\chk\\8best_model.pth\n",
      "Epoch [9/20], Step [191/191], Training Loss: 0.0296\n",
      "Epoch [9/20], Step [54/54], Val Loss: 0.0361\n",
      "\n",
      "Saving best model for epoch: 9\n",
      " at G:\\SAAD_ML\\chk\\9best_model.pth\n",
      "Epoch [10/20], Step [191/191], Training Loss: 0.0279\n",
      "Epoch [10/20], Step [54/54], Val Loss: 0.0332\n",
      "\n",
      "Saving best model for epoch: 10\n",
      " at G:\\SAAD_ML\\chk\\10best_model.pth\n",
      "Epoch [11/20], Step [191/191], Training Loss: 0.0261\n",
      "Epoch [11/20], Step [54/54], Val Loss: 0.0321\n",
      "\n",
      "Saving best model for epoch: 11\n",
      " at G:\\SAAD_ML\\chk\\11best_model.pth\n",
      "Epoch [12/20], Step [191/191], Training Loss: 0.0246\n",
      "Epoch [12/20], Step [54/54], Val Loss: 0.0304\n",
      "\n",
      "Saving best model for epoch: 12\n",
      " at G:\\SAAD_ML\\chk\\12best_model.pth\n",
      "Epoch [13/20], Step [191/191], Training Loss: 0.0239\n",
      "Epoch [13/20], Step [54/54], Val Loss: 0.0292\n",
      "\n",
      "Saving best model for epoch: 13\n",
      " at G:\\SAAD_ML\\chk\\13best_model.pth\n",
      "Epoch [14/20], Step [191/191], Training Loss: 0.0231\n",
      "Epoch [14/20], Step [54/54], Val Loss: 0.0290\n",
      "\n",
      "Saving best model for epoch: 14\n",
      " at G:\\SAAD_ML\\chk\\14best_model.pth\n",
      "Epoch [15/20], Step [191/191], Training Loss: 0.0228\n",
      "Epoch [15/20], Step [54/54], Val Loss: 0.0283\n",
      "\n",
      "Saving best model for epoch: 15\n",
      " at G:\\SAAD_ML\\chk\\15best_model.pth\n",
      "Epoch [16/20], Step [191/191], Training Loss: 0.0223\n",
      "Epoch [16/20], Step [54/54], Val Loss: 0.0282\n",
      "\n",
      "Saving best model for epoch: 16\n",
      " at G:\\SAAD_ML\\chk\\16best_model.pth\n",
      "Epoch [17/20], Step [191/191], Training Loss: 0.0218\n",
      "Epoch [17/20], Step [54/54], Val Loss: 0.0272\n",
      "\n",
      "Saving best model for epoch: 17\n",
      " at G:\\SAAD_ML\\chk\\17best_model.pth\n",
      "Epoch [18/20], Step [191/191], Training Loss: 0.0217\n",
      "Epoch [18/20], Step [54/54], Val Loss: 0.0273\n",
      "Epoch [19/20], Step [191/191], Training Loss: 0.0213\n",
      "Epoch [19/20], Step [54/54], Val Loss: 0.0278\n",
      "Epoch [20/20], Step [191/191], Training Loss: 0.0208\n",
      "Epoch [20/20], Step [54/54], Val Loss: 0.0278\n",
      "Time Consumed 119.32475423812866 sec\n"
     ]
    }
   ],
   "source": [
    "start = time.time()\n",
    "train(start_epoch,\n",
    "      num_epochs,\n",
    "      best_model_path,\n",
    "      fig_path,\n",
    "      model,criterion,optimizer,save_best_model,Plot_Loss,\n",
    "      train_data_loader,\n",
    "      validation_data_loader)\n",
    "print('Time Consumed', time.time()-start, \"sec\")"
   ]
  },
  {
   "cell_type": "code",
   "execution_count": null,
   "id": "293ff80d",
   "metadata": {},
   "outputs": [],
   "source": []
  }
 ],
 "metadata": {
  "kernelspec": {
   "display_name": "STLF",
   "language": "python",
   "name": "python3"
  },
  "language_info": {
   "codemirror_mode": {
    "name": "ipython",
    "version": 3
   },
   "file_extension": ".py",
   "mimetype": "text/x-python",
   "name": "python",
   "nbconvert_exporter": "python",
   "pygments_lexer": "ipython3",
   "version": "3.7.7"
  }
 },
 "nbformat": 4,
 "nbformat_minor": 5
}
